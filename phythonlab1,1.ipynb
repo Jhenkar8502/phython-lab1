{
 "cells": [
  {
   "cell_type": "code",
   "execution_count": null,
   "id": "8732c598",
   "metadata": {},
   "outputs": [],
   "source": [
    "n = int(input(\"enter a number:\"))\n",
    "if(n%2)==0:\n",
    "    print(\"number is even\")\n",
    "else:\n",
    "    print(\"number is odd\")\n",
    "    "
   ]
  },
  {
   "cell_type": "code",
   "execution_count": null,
   "id": "e16d66ac",
   "metadata": {},
   "outputs": [],
   "source": [
    "n=float(input(\"enter a no\"))\n",
    "if(n>0):\n",
    "    print(\"positive no\")\n",
    "elif(n<0):\n",
    "    print(\"negative no\")\n",
    "else:\n",
    "    print(\"zero\")"
   ]
  },
  {
   "cell_type": "code",
   "execution_count": null,
   "id": "cbd5003e",
   "metadata": {},
   "outputs": [],
   "source": [
    "n1=float(input(\"enter the first no\"))\n",
    "n2=float(input(\"enter the second no\"))\n",
    "n3=float(input(\"enter the third no\"))\n",
    "if(n1>n2)and(n1>n3):\n",
    "    print(\"n1 is greater\")\n",
    "elif(n2>n1)and(n2>n3):\n",
    "    print(\"n2 is greater\")\n",
    "else:\n",
    "    print(\"n3 is greater\")"
   ]
  },
  {
   "cell_type": "code",
   "execution_count": null,
   "id": "e7d3dc37",
   "metadata": {},
   "outputs": [],
   "source": [
    "i=1\n",
    "while i<=30:\n",
    "    if(i%4==0)or(i%7==0):\n",
    "        i += 1\n",
    "else:\n",
    "    print(i)\n",
    "    i += 1"
   ]
  },
  {
   "cell_type": "code",
   "execution_count": null,
   "id": "bf2cb81f",
   "metadata": {},
   "outputs": [],
   "source": [
    "# Sum of natural numbers up to num\n",
    "\n",
    "num = 16\n",
    "\n",
    "if num < 0:\n",
    "   print(\"Enter a positive number\")\n",
    "else:\n",
    "   sum = 0\n",
    "   # use while loop to iterate until zero\n",
    "   while(num > 0):\n",
    "       sum += num\n",
    "       num -= 1\n",
    "   print(\"The sum is\", sum)\n"
   ]
  },
  {
   "cell_type": "code",
   "execution_count": null,
   "id": "b4dee658",
   "metadata": {},
   "outputs": [],
   "source": [
    "i = 2\n",
    "while i<20:\n",
    "    print(i)\n",
    "    i=i+2"
   ]
  },
  {
   "cell_type": "code",
   "execution_count": null,
   "id": "ebf79383",
   "metadata": {},
   "outputs": [],
   "source": [
    "i = 1\n",
    "while(i<100)\n",
    " if(i%2!=0):\n",
    "        print(i)\n",
    "        i=i+1"
   ]
  },
  {
   "cell_type": "code",
   "execution_count": null,
   "id": "c159b32c",
   "metadata": {},
   "outputs": [],
   "source": [
    "rows=int(input(\"enter number of rows\"))\n",
    "for i in range(rows):\n",
    "    for j in range(i+1):\n",
    "        print(\"*\",end=\" \")\n",
    "        print(\"\\n\")"
   ]
  },
  {
   "cell_type": "markdown",
   "id": "851d4cfe",
   "metadata": {},
   "source": []
  },
  {
   "cell_type": "code",
   "execution_count": null,
   "id": "dc0b341f",
   "metadata": {},
   "outputs": [],
   "source": [
    "rows = int(input(\"enter number of rowes\"))\n",
    "for i in range(rows,0,-1):\n",
    "for j in range(0,i):\n",
    "    print(\"*\",end=\" \")\n",
    "    print(\"\\n\")"
   ]
  },
  {
   "cell_type": "code",
   "execution_count": null,
   "id": "94b568df",
   "metadata": {},
   "outputs": [],
   "source": [
    "rows = int(input(\"enter no rows\"))\n",
    "for i in range(rows,0,-1):\n",
    "    for j in range(1,i+1):\n",
    "        print(j,end=\" \")\n",
    "        print(\"\\n\")"
   ]
  }
 ],
 "metadata": {
  "kernelspec": {
   "display_name": "Python 3 (ipykernel)",
   "language": "python",
   "name": "python3"
  },
  "language_info": {
   "codemirror_mode": {
    "name": "ipython",
    "version": 3
   },
   "file_extension": ".py",
   "mimetype": "text/x-python",
   "name": "python",
   "nbconvert_exporter": "python",
   "pygments_lexer": "ipython3",
   "version": "3.9.12"
  }
 },
 "nbformat": 4,
 "nbformat_minor": 5
}
